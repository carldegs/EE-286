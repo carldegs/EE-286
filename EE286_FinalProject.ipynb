{
  "nbformat": 4,
  "nbformat_minor": 0,
  "metadata": {
    "colab": {
      "name": "EE286-FinalProject",
      "provenance": [],
      "collapsed_sections": [],
      "include_colab_link": true
    },
    "kernelspec": {
      "name": "python3",
      "display_name": "Python 3"
    }
  },
  "cells": [
    {
      "cell_type": "markdown",
      "metadata": {
        "id": "view-in-github",
        "colab_type": "text"
      },
      "source": [
        "<a href=\"https://colab.research.google.com/github/carldegs/EE-286/blob/master/EE286_FinalProject.ipynb\" target=\"_parent\"><img src=\"https://colab.research.google.com/assets/colab-badge.svg\" alt=\"Open In Colab\"/></a>"
      ]
    },
    {
      "cell_type": "markdown",
      "metadata": {
        "id": "ciGSB0J4Nb0Q",
        "colab_type": "text"
      },
      "source": [
        "# Music Genre Classifier\n",
        "\n",
        "Narz Marbeth David 2005-09925\n",
        "Carl Justin de Guia 2011-06521\n",
        "\n",
        "## Introduction\n",
        "// TODO"
      ]
    },
    {
      "cell_type": "code",
      "metadata": {
        "id": "LF0UpdlULB8o",
        "colab_type": "code",
        "colab": {}
      },
      "source": [
        "# feature extractoring and preprocessing data\n",
        "import librosa\n",
        "import pandas as pd\n",
        "import numpy as np\n",
        "import matplotlib.pyplot as plt\n",
        "%matplotlib inline\n",
        "import os\n",
        "from PIL import Image\n",
        "import pathlib\n",
        "import csv\n",
        "\n",
        "# Preprocessing\n",
        "from sklearn.model_selection import train_test_split\n",
        "from sklearn.preprocessing import LabelEncoder, StandardScaler\n",
        "\n",
        "#Keras\n",
        "import keras\n",
        "\n",
        "import warnings\n",
        "warnings.filterwarnings('ignore')"
      ],
      "execution_count": 0,
      "outputs": []
    },
    {
      "cell_type": "markdown",
      "metadata": {
        "id": "W1-gyeNjNZqK",
        "colab_type": "text"
      },
      "source": [
        "## Dataset\n",
        "\n",
        "// TODO"
      ]
    },
    {
      "cell_type": "code",
      "metadata": {
        "id": "JmX3-I-HPWFB",
        "colab_type": "code",
        "colab": {}
      },
      "source": [
        "# TODO: Import dataset and show graphs and stuff"
      ],
      "execution_count": 0,
      "outputs": []
    },
    {
      "cell_type": "markdown",
      "metadata": {
        "id": "vRxjUMerPaSR",
        "colab_type": "text"
      },
      "source": [
        "## Feature Extraction\n",
        "\n",
        "// TODO: Show feature extraction methods used and how we chose what data to use in our model."
      ]
    },
    {
      "cell_type": "code",
      "metadata": {
        "id": "Cn3-r31iPg3P",
        "colab_type": "code",
        "colab": {}
      },
      "source": [
        "# TODO: Do the extraction and show ouput data\n",
        "# TODO (Minor??): Save extracted data to a .csv file to remove necessity to run feature extraction code multiple times."
      ],
      "execution_count": 0,
      "outputs": []
    },
    {
      "cell_type": "markdown",
      "metadata": {
        "id": "y8BVzNpAQdy0",
        "colab_type": "text"
      },
      "source": [
        "## Training the Model\n",
        "\n",
        "// TODO: Explain model used, and the input and output\n"
      ]
    },
    {
      "cell_type": "code",
      "metadata": {
        "id": "Ukvvu6RCQsyt",
        "colab_type": "code",
        "colab": {}
      },
      "source": [
        "# TODO: Create model, train, test, and show benchmarks"
      ],
      "execution_count": 0,
      "outputs": []
    },
    {
      "cell_type": "markdown",
      "metadata": {
        "id": "cGiZIezDRFUa",
        "colab_type": "text"
      },
      "source": [
        "## Results\n",
        "\n",
        "// TODO: Compare with results from the article. Explain how and why our model is better (wow)"
      ]
    },
    {
      "cell_type": "markdown",
      "metadata": {
        "id": "whTmx9N4RaFP",
        "colab_type": "text"
      },
      "source": [
        "## Reference\n",
        "\n",
        "[1] Pandey, P. (2018, December 19). Music Genre Classification with Python. Retrieved from https://towardsdatascience.com/music-genre-classification-with-python-c714d032f0d8."
      ]
    }
  ]
}