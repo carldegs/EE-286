{
 "cells": [
  {
   "cell_type": "markdown",
   "metadata": {
    "colab_type": "text",
    "id": "view-in-github"
   },
   "source": [
    "<a href=\"https://colab.research.google.com/github/carldegs/EE-286/blob/master/EE286_FinalProject.ipynb\" target=\"_parent\"><img src=\"https://colab.research.google.com/assets/colab-badge.svg\" alt=\"Open In Colab\"/></a>"
   ]
  },
  {
   "cell_type": "markdown",
   "metadata": {
    "colab_type": "text",
    "id": "ciGSB0J4Nb0Q"
   },
   "source": [
    "# Music Genre Classifier\n",
    "\n",
    "Narz Marbeth David 2005-09925\n",
    "Carl Justin de Guia 2011-06521\n",
    "\n",
    "## Introduction\n",
    "// TODO"
   ]
  },
  {
   "cell_type": "code",
   "execution_count": 9,
   "metadata": {
    "colab": {},
    "colab_type": "code",
    "id": "LF0UpdlULB8o"
   },
   "outputs": [],
   "source": [
    "from __future__ import absolute_import\n",
    "from __future__ import division\n",
    "from __future__ import print_function\n",
    "\n",
    "# feature extractoring and preprocessing data\n",
    "import librosa\n",
    "import pandas as pd\n",
    "import numpy as np\n",
    "import matplotlib.pyplot as plt\n",
    "%matplotlib inline\n",
    "import os\n",
    "from PIL import Image\n",
    "import pathlib\n",
    "import csv\n",
    "\n",
    "# Preprocessing\n",
    "from sklearn.model_selection import train_test_split\n",
    "from sklearn.preprocessing import LabelEncoder, StandardScaler\n",
    "\n",
    "#Keras\n",
    "from tensorflow.keras.models import Sequential\n",
    "from tensorflow.keras.layers import Dense, Activation, Dropout\n",
    "from tensorflow.keras.utils import to_categorical, plot_model\n",
    "from tensorflow.keras.regularizers import l2\n",
    "\n",
    "import warnings\n",
    "warnings.filterwarnings('ignore')"
   ]
  },
  {
   "cell_type": "markdown",
   "metadata": {
    "colab_type": "text",
    "id": "W1-gyeNjNZqK"
   },
   "source": [
    "## Dataset\n",
    "\n",
    "// TODO"
   ]
  },
  {
   "cell_type": "code",
   "execution_count": 3,
   "metadata": {
    "colab": {},
    "colab_type": "code",
    "id": "JmX3-I-HPWFB"
   },
   "outputs": [],
   "source": [
    "# TODO: Import dataset and show graphs and stuff"
   ]
  },
  {
   "cell_type": "markdown",
   "metadata": {
    "colab_type": "text",
    "id": "vRxjUMerPaSR"
   },
   "source": [
    "## Feature Extraction\n",
    "\n",
    "// TODO: Show feature extraction methods used and how we chose what data to use in our model."
   ]
  },
  {
   "cell_type": "code",
   "execution_count": 4,
   "metadata": {
    "colab": {},
    "colab_type": "code",
    "id": "Cn3-r31iPg3P"
   },
   "outputs": [],
   "source": [
    "# TODO: Do the extraction and show ouput data\n",
    "# TODO (Minor??): Save extracted data to a .csv file to remove necessity to run feature extraction code multiple times."
   ]
  },
  {
   "cell_type": "markdown",
   "metadata": {
    "colab_type": "text",
    "id": "y8BVzNpAQdy0"
   },
   "source": [
    "## Training the Model\n",
    "\n",
    "// TODO: Explain model used, and the input and output\n"
   ]
  },
  {
   "cell_type": "markdown",
   "metadata": {
    "colab": {},
    "colab_type": "code",
    "id": "Ukvvu6RCQsyt"
   },
   "source": [
    "###### Read extracted feature data and split into input and output.\n",
    "data = pd.read_csv('./test_data.csv')\n",
    "\n",
    "X = data.drop(['filename', 'label'], axis=1)\n",
    "y = data['label']\n",
    "\n",
    "num_labels = len(np.unique(y))\n",
    "input_size = X.shape[1]\n",
    "\n",
    "# Standardize floats\n",
    "scaler = StandardScaler()\n",
    "X = scaler.fit_transform(np.array(X, dtype = float))\n",
    "\n",
    "# convert labels to one-hot vector\n",
    "label_encoder = LabelEncoder()\n",
    "y = label_encoder.fit_transform(y)\n",
    "y = to_categorical(y)\n",
    "\n",
    "# Split into train and test data\n",
    "X_train, X_test, y_train, y_test = train_test_split(X, y)\n",
    "\n",
    "# network parameters\n",
    "batch_size = 64\n",
    "hidden_units = 256\n",
    "dropout = 0.2\n",
    "epochs=100\n",
    "kernel_regularizer = l2(0.0001)\n",
    "\n",
    "# Model is a 3-layer MLP with ReLU and dropout after each layer\n",
    "model = Sequential()\n",
    "\n",
    "model.add(Dense(hidden_units,\n",
    "                kernel_regularizer=kernel_regularizer,\n",
    "                input_dim=input_size))\n",
    "model.add(Activation('relu'))\n",
    "# model.add(Dropout(dropout))\n",
    "\n",
    "model.add(Dense(hidden_units,\n",
    "                kernel_regularizer=kernel_regularizer))\n",
    "model.add(Activation('relu'))\n",
    "# model.add(Dropout(dropout))\n",
    "\n",
    "model.add(Dense(num_labels))\n",
    "\n",
    "# Output\n",
    "model.add(Activation('softmax'))\n",
    "model.summary()\n",
    "\n",
    "model.compile(loss='categorical_crossentropy',\n",
    "             optimizer='adam',\n",
    "             metrics=['accuracy'])\n",
    "\n",
    "# Fit\n",
    "history = model.fit(X_train, y_train, epochs=epochs, batch_size=batch_size, verbose=0)\n",
    "\n",
    "# # train the network\n",
    "# history = model.fit(X_train, y_train, epochs=epochs, batch_size=batch_size, verbose=0)\n",
    "\n",
    "# validation\n",
    "loss, acc = model.evaluate(X_test, y_test, batch_size=batch_size, verbose=0)\n",
    "\n",
    "print(\"\\nTest accuracy: %.1f%%\" % (100.0 * acc))\n",
    "\n",
    "# Summarize history for loss\n",
    "plt.plot(history.history['loss'])\n",
    "plt.plot(loss)\n",
    "plt.title('model loss')\n",
    "plt.ylabel('loss')\n",
    "plt.xlabel('epoch')\n",
    "plt.legend(['train', 'test'], loc='upper left')\n",
    "plt.show()\n",
    "\n",
    "loss"
   ]
  },
  {
   "cell_type": "code",
   "execution_count": 13,
   "metadata": {},
   "outputs": [
    {
     "name": "stdout",
     "output_type": "stream",
     "text": [
      "\n",
      "Test accuracy: 65.2%\n"
     ]
    },
    {
     "data": {
      "image/png": "[encoded data removed]",
      "text/plain": [
       "<Figure size 432x288 with 1 Axes>"
      ]
     },
     "metadata": {
      "needs_background": "light"
     },
     "output_type": "display_data"
    },
    {
     "data": {
      "text/plain": [
       "1.6681434497833252"
      ]
     },
     "execution_count": 13,
     "metadata": {},
     "output_type": "execute_result"
    }
   ],
   "source": []
  },
  {
   "cell_type": "markdown",
   "metadata": {
    "colab_type": "text",
    "id": "cGiZIezDRFUa"
   },
   "source": [
    "## Results\n",
    "\n",
    "// TODO: Compare with results from the article. Explain how and why our model is better (wow)"
   ]
  },
  {
   "cell_type": "markdown",
   "metadata": {
    "colab_type": "text",
    "id": "whTmx9N4RaFP"
   },
   "source": [
    "## Reference\n",
    "\n",
    "[1] Pandey, P. (2018, December 19). Music Genre Classification with Python. Retrieved from https://towardsdatascience.com/music-genre-classification-with-python-c714d032f0d8."
   ]
  }
 ],
 "metadata": {
  "colab": {
   "collapsed_sections": [],
   "include_colab_link": true,
   "name": "EE286-FinalProject",
   "provenance": []
  },
  "kernelspec": {
   "display_name": "Python 3",
   "language": "python",
   "name": "python3"
  },
  "language_info": {
   "codemirror_mode": {
    "name": "ipython",
    "version": 3
   },
   "file_extension": ".py",
   "mimetype": "text/x-python",
   "name": "python",
   "nbconvert_exporter": "python",
   "pygments_lexer": "ipython3",
   "version": "3.7.5"
  }
 },
 "nbformat": 4,
 "nbformat_minor": 1
}
